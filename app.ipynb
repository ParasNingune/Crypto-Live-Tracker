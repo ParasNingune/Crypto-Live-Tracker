{
 "cells": [
  {
   "cell_type": "markdown",
   "id": "021ec16d-9052-4399-86d3-aec593f7d65f",
   "metadata": {},
   "source": [
    "# Fetch Live Data"
   ]
  },
  {
   "cell_type": "code",
   "execution_count": 138,
   "id": "af31f7ec-7e5c-4750-9d37-5475f26cc9d6",
   "metadata": {},
   "outputs": [],
   "source": [
    "import requests"
   ]
  },
  {
   "cell_type": "code",
   "execution_count": 139,
   "id": "a9652ba8-4cb5-46f8-ba42-c362206de5dd",
   "metadata": {},
   "outputs": [],
   "source": [
    "def fetch_crypto_data():\n",
    "    url = \"https://api.coingecko.com/api/v3/coins/markets\"\n",
    "    params = {\n",
    "        \"vs_currency\": \"usd\",          # Get prices in USD\n",
    "        \"order\": \"market_cap_desc\",    # Order by market capitalization\n",
    "        \"per_page\": 50,                # Number of cryptocurrencies to fetch\n",
    "        \"page\": 1,                     # Fetch the first page of results\n",
    "        \"sparkline\": False             # Exclude sparkline data\n",
    "    }\n",
    "\n",
    "    response = requests.get(url, params=params)\n",
    "\n",
    "    if response.status_code == 200:\n",
    "        data = response.json()\n",
    "        return data\n",
    "    else:\n",
    "        print(f\"Error: Unable to fetch data (Status Code: {response.status_code})\")\n",
    "        return None"
   ]
  },
  {
   "cell_type": "code",
   "execution_count": 140,
   "id": "0bfed970-5253-4a5e-bf5a-86ecef15e97f",
   "metadata": {},
   "outputs": [
    {
     "name": "stdout",
     "output_type": "stream",
     "text": [
      "Top 50 Cryptocurrencies:\n",
      "1. Bitcoin (BTC) - $92554 1842464186193 61624688461 -1.4207\n",
      "2. Ethereum (ETH) - $3242.31 392321181635 28874942687 -0.26736\n",
      "3. Tether (USDT) - $0.999876 137583768271 87594299741 -0.04711\n",
      "4. XRP (XRP) - $2.3 132572294612 7220979063 1.49854\n",
      "5. BNB (BNB) - $686.1 100446366337 1111024322 -0.24098\n",
      "6. Solana (SOL) - $187.38 90760262424 4543727118 -2.55681\n",
      "7. Dogecoin (DOGE) - $0.320746 47483155150 4125696956 -3.96223\n",
      "8. USDC (USDC) - $1.0 45362539038 9855510746 -0.11609\n",
      "9. Cardano (ADA) - $0.911398 32874831163 1693746187 -3.19907\n",
      "10. Lido Staked Ether (STETH) - $3241.11 31203024530 62540308 -0.28697\n",
      "11. TRON (TRX) - $0.241554 20873997211 1255613984 -2.20706\n",
      "12. Avalanche (AVAX) - $36.44 14984034042 441812824 -1.94722\n",
      "13. Sui (SUI) - $4.74 14330828358 2093132260 3.90427\n",
      "14. Wrapped stETH (WSTETH) - $3894.49 13740238051 58525584 0.20122\n",
      "15. Toncoin (TON) - $5.17 13129172734 255792707 -1.27181\n",
      "16. Shiba Inu (SHIB) - $2.139e-05 12587251639 569884191 1.92526\n",
      "17. Chainlink (LINK) - $19.69 12473957902 1122142846 -2.09601\n",
      "18. Wrapped Bitcoin (WBTC) - $92597 12280898577 575933557 -1.31426\n",
      "19. Stellar (XLM) - $0.400378 12221973815 698372397 -0.98707\n",
      "20. Hedera (HBAR) - $0.271436 10443289000 632816532 -1.60058\n",
      "21. Polkadot (DOT) - $6.65 10138583183 376704039 0.34975\n",
      "22. WETH (WETH) - $3256.49 9821677675 1207573265 -0.02918\n",
      "23. Bitcoin Cash (BCH) - $421.68 8383289461 280633990 -1.52283\n",
      "24. LEO Token (LEO) - $9.03 8341594755 744336 -0.52926\n",
      "25. Litecoin (LTC) - $102.81 7790323444 705085821 3.11411\n",
      "26. Bitget Token (BGB) - $6.33 7630339821 358087584 -0.36042\n",
      "27. Uniswap (UNI) - $12.63 7581115580 349239094 -1.37095\n",
      "28. Pepe (PEPE) - $1.729e-05 7334636840 1670288656 -1.46378\n",
      "29. Hyperliquid (HYPE) - $20.09 6711163309 331101586 -6.35223\n",
      "30. Wrapped eETH (WEETH) - $3442.79 6451965141 17626786 0.12536\n",
      "31. NEAR Protocol (NEAR) - $4.98 5829200496 374392225 -0.71128\n",
      "32. Ethena USDe (USDE) - $0.993927 5755947631 152617379 -0.69788\n",
      "33. USDS (USDS) - $0.994237 5708543949 26996998 -0.46025\n",
      "34. Internet Computer (ICP) - $10.22 4899747676 215583488 -3.96593\n",
      "35. Aptos (APT) - $8.69 4881688665 403506068 -1.50039\n",
      "36. Aave (AAVE) - $283.5 4270385264 644160384 0.69309\n",
      "37. Mantle (MNT) - $1.14 3856753429 169015631 -3.88928\n",
      "38. POL (ex-MATIC) (POL) - $0.452596 3807103032 117416846 0.39294\n",
      "39. MANTRA (OM) - $3.95 3789376714 101808374 1.66035\n",
      "40. Cronos (CRO) - $0.138461 3772537950 30538487 -2.83485\n",
      "41. Ethereum Classic (ETC) - $24.99 3753095730 253606337 0.65235\n",
      "42. Render (RENDER) - $7.11 3690867322 228243883 -3.36576\n",
      "43. Bittensor (TAO) - $447.56 3658177012 116702581 -1.72902\n",
      "44. VeChain (VET) - $0.04457906 3613997701 86287675 1.2898\n",
      "45. Monero (XMR) - $193.54 3568853909 60491352 -0.53368\n",
      "46. Tokenize Xchange (TKX) - $42.79 3429539491 28489149 0.72278\n",
      "47. Dai (DAI) - $1.0 3407061310 137195498 -0.10738\n",
      "48. Artificial Superintelligence Alliance (FET) - $1.29 3379626770 451463506 -0.83181\n",
      "49. Virtuals Protocol (VIRTUAL) - $3.19 3190214942 547446880 -7.82217\n",
      "50. Arbitrum (ARB) - $0.753677 3174013381 433054189 -2.60503\n"
     ]
    }
   ],
   "source": [
    "crypto_data = fetch_crypto_data()\n",
    "if crypto_data:\n",
    "    print(\"Top 50 Cryptocurrencies:\")\n",
    "    for i, coin in enumerate(crypto_data, start=1):\n",
    "        print(f\"{i}. {coin['name']} ({coin['symbol'].upper()}) - ${coin['current_price']} {coin['market_cap']} {coin['total_volume']} {coin['price_change_percentage_24h']}\")"
   ]
  },
  {
   "cell_type": "markdown",
   "id": "f4afc18c-c05c-437e-be66-a48a49bf0e19",
   "metadata": {},
   "source": [
    "# Data Analysis"
   ]
  },
  {
   "cell_type": "code",
   "execution_count": 141,
   "id": "a82522f3-7f23-42ea-9c99-0f3f3b21399f",
   "metadata": {},
   "outputs": [],
   "source": [
    "def analyze_crypto_data(data):\n",
    "    \n",
    "    # Identify the top 5 cryptocurrencies by market capitalization\n",
    "    top_5_by_market_cap = sorted(data, key=lambda x: x['market_cap'], reverse=True)[:5]\n",
    "\n",
    "    # Calculate the average price of the top 50 cryptocurrencies\n",
    "    average_price = sum(coin['current_price'] for coin in data) / len(data)\n",
    "\n",
    "    # Find the highest and lowest percentage change in 24 hours\n",
    "    highest_change = max(data, key=lambda x: x['price_change_percentage_24h'])\n",
    "    lowest_change = min(data, key=lambda x: x['price_change_percentage_24h'])\n",
    "\n",
    "    # Display the analysis results\n",
    "    print(\"\\n--- Data Analysis ---\")\n",
    "    print(\"\\nTop 5 Cryptocurrencies by Market Cap:\")\n",
    "    i=1\n",
    "    for coin in top_5_by_market_cap:\n",
    "        print(f\"{i}. {coin['name']} ({coin['symbol'].upper()}) - Market Cap: ${coin['market_cap']:,}\")\n",
    "        i += 1\n",
    "\n",
    "    print(f\"\\nAverage Price of Top 50 Cryptocurrencies: ${average_price:.2f}\")\n",
    "    print(f\"\\nHighest 24h % Change: {highest_change['name']} ({highest_change['price_change_percentage_24h']:.2f}%)\")\n",
    "    print(f\"Lowest 24h % Change: {lowest_change['name']} ({lowest_change['price_change_percentage_24h']:.2f}%)\")"
   ]
  },
  {
   "cell_type": "code",
   "execution_count": 142,
   "id": "bc5b650c-c5a1-44fc-bf2c-43b0bef23e51",
   "metadata": {},
   "outputs": [
    {
     "name": "stdout",
     "output_type": "stream",
     "text": [
      "\n",
      "--- Data Analysis ---\n",
      "\n",
      "Top 5 Cryptocurrencies by Market Cap:\n",
      "1. Bitcoin (BTC) - Market Cap: $1,842,464,186,193\n",
      "2. Ethereum (ETH) - Market Cap: $392,321,181,635\n",
      "3. Tether (USDT) - Market Cap: $137,583,768,271\n",
      "4. XRP (XRP) - Market Cap: $132,572,294,612\n",
      "5. BNB (BNB) - Market Cap: $100,446,366,337\n",
      "\n",
      "Average Price of Top 50 Cryptocurrencies: $4095.81\n",
      "\n",
      "Highest 24h % Change: Sui (3.90%)\n",
      "Lowest 24h % Change: Virtuals Protocol (-7.82%)\n"
     ]
    }
   ],
   "source": [
    "analyze_crypto_data(crypto_data)"
   ]
  },
  {
   "cell_type": "markdown",
   "id": "1799a638-6de7-45e6-b76c-9238040b55ac",
   "metadata": {},
   "source": [
    "# Live-Running Excel Sheet"
   ]
  },
  {
   "cell_type": "code",
   "execution_count": 143,
   "id": "5671b8d1-38ce-45d5-a623-d3838e5a9de9",
   "metadata": {},
   "outputs": [],
   "source": [
    "import openpyxl\n",
    "import time\n",
    "from openpyxl.styles import PatternFill\n",
    "import os\n",
    "from fpdf import FPDF"
   ]
  },
  {
   "cell_type": "code",
   "execution_count": 144,
   "id": "b46203f8-6cbc-4d92-a576-6b9c43a1b2f8",
   "metadata": {},
   "outputs": [],
   "source": [
    "def update_excel_sheet(data):\n",
    "    file_path = 'crypto_data.xlsx'\n",
    "    \n",
    "    if os.path.exists(file_path):\n",
    "        workbook = openpyxl.load_workbook(file_path)\n",
    "        sheet = workbook.active\n",
    "    else:\n",
    "        workbook = openpyxl.Workbook()\n",
    "        sheet = workbook.active\n",
    "        sheet['A1'] = 'Cryptocurrency Name'\n",
    "        sheet['B1'] = 'Symbol'\n",
    "        sheet['C1'] = 'Current Price (USD)'\n",
    "        sheet['D1'] = 'Market Capitalization'\n",
    "        sheet['E1'] = '24-hour Trading Volume'\n",
    "        sheet['F1'] = 'Price Change (24h, %)'\n",
    "\n",
    "    # Create fill styles for row highlighting\n",
    "    red_fill = PatternFill(start_color='FFCCCB', end_color='FFCCCB', fill_type='solid')  # Red for decrease\n",
    "    green_fill = PatternFill(start_color='90EE90', end_color='90EE90', fill_type='solid')  # Green for increase\n",
    "\n",
    "    for coin in data:\n",
    "        # Check if the coin already exists in the sheet by its name (column A)\n",
    "        existing_row = None\n",
    "        for row in range(2, sheet.max_row + 1):  # Skip header row\n",
    "            if sheet[f'A{row}'].value == coin['name']:\n",
    "                existing_row = row\n",
    "                break\n",
    "\n",
    "        if existing_row:\n",
    "            # Update existing row\n",
    "            sheet[f'C{existing_row}'] = coin['current_price']\n",
    "            sheet[f'D{existing_row}'] = coin['market_cap']\n",
    "            sheet[f'E{existing_row}'] = coin['total_volume']\n",
    "            sheet[f'F{existing_row}'] = coin['price_change_percentage_24h']\n",
    "\n",
    "            price_change = coin['price_change_percentage_24h']\n",
    "            \n",
    "            # Apply color fill based on price change\n",
    "            fill = green_fill if price_change >= 0 else red_fill\n",
    "            for col in range(1, 7):  # Columns A to F\n",
    "                sheet.cell(row=existing_row, column=col).fill = fill\n",
    "        else:\n",
    "            # Add new row for the cryptocurrency\n",
    "            row = sheet.max_row + 1\n",
    "            sheet[f'A{row}'] = coin['name']\n",
    "            sheet[f'B{row}'] = coin['symbol'].upper()\n",
    "            sheet[f'C{row}'] = coin['current_price']\n",
    "            sheet[f'D{row}'] = coin['market_cap']\n",
    "            sheet[f'E{row}'] = coin['total_volume']\n",
    "            sheet[f'F{row}'] = coin['price_change_percentage_24h']\n",
    "\n",
    "            price_change = coin['price_change_percentage_24h']\n",
    "            \n",
    "            # Apply color fill based on price change\n",
    "            fill = green_fill if price_change >= 0 else red_fill\n",
    "            for col in range(1, 7):  # Columns A to F\n",
    "                sheet.cell(row=row, column=col).fill = fill\n",
    "\n",
    "    workbook.save(file_path)"
   ]
  },
  {
   "cell_type": "code",
   "execution_count": 145,
   "id": "5559d7a7-d78a-4221-a95f-c1e59888572b",
   "metadata": {},
   "outputs": [],
   "source": [
    "def generate_analysis_report(data):\n",
    "    pdf = FPDF()\n",
    "    pdf.set_auto_page_break(auto=True, margin=15)\n",
    "    pdf.add_page()\n",
    "\n",
    "    pdf.set_font('Arial', 'B', 16)\n",
    "    pdf.cell(200, 10, txt=\"Cryptocurrency Market Analysis\", ln=True, align='C')\n",
    "\n",
    "    pdf.set_font('Arial', '', 12)\n",
    "    pdf.ln(10)\n",
    "    pdf.cell(200, 10, txt=\"Key Insights and Analysis\", ln=True)\n",
    "\n",
    "    pdf.ln(10)\n",
    "    pdf.set_font('Arial', '', 10)\n",
    "    pdf.cell(30, 10, 'Name', border=1)\n",
    "    pdf.cell(30, 10, 'Symbol', border=1)\n",
    "    pdf.cell(50, 10, 'Current Price (USD)', border=1)\n",
    "    pdf.cell(50, 10, '24h Change (%)', border=1)\n",
    "    pdf.ln(10)\n",
    "\n",
    "    for coin in data:\n",
    "        pdf.cell(30, 10, coin['name'], border=1)\n",
    "        pdf.cell(30, 10, coin['symbol'], border=1)\n",
    "        pdf.cell(50, 10, f\"${coin['current_price']}\", border=1)\n",
    "        pdf.cell(50, 10, f\"{coin['price_change_percentage_24h']}%\", border=1)\n",
    "        pdf.ln(10)\n",
    "\n",
    "    pdf.output(\"analysis_report.pdf\")"
   ]
  },
  {
   "cell_type": "code",
   "execution_count": 146,
   "id": "5875f383-be8d-4c63-be15-34bcfac95628",
   "metadata": {},
   "outputs": [],
   "source": [
    "def run_live_updates():\n",
    "    while True:\n",
    "        crypto_data = fetch_crypto_data()\n",
    "        if crypto_data:\n",
    "            update_excel_sheet(crypto_data)\n",
    "            #generate_analysis_report(crypto_data)\n",
    "            print(\"Updated\")\n",
    "        time.sleep(60)  # Wait for 5 minutes (300 seconds)"
   ]
  },
  {
   "cell_type": "code",
   "execution_count": null,
   "id": "6a6d586c-925c-44f0-aad7-1b475e8fede7",
   "metadata": {},
   "outputs": [
    {
     "name": "stdout",
     "output_type": "stream",
     "text": [
      "Updated\n",
      "Updated\n",
      "Updated\n",
      "Updated\n",
      "Updated\n",
      "Updated\n",
      "Updated\n",
      "Updated\n",
      "Updated\n",
      "Updated\n",
      "Updated\n",
      "Updated\n",
      "Updated\n",
      "Updated\n",
      "Updated\n",
      "Updated\n",
      "Updated\n",
      "Updated\n",
      "Updated\n",
      "Updated\n",
      "Updated\n",
      "Updated\n"
     ]
    }
   ],
   "source": [
    "run_live_updates()"
   ]
  },
  {
   "cell_type": "code",
   "execution_count": null,
   "id": "97eba32e-ece6-492a-97c5-39421917c956",
   "metadata": {},
   "outputs": [],
   "source": []
  }
 ],
 "metadata": {
  "kernelspec": {
   "display_name": "Python 3 (ipykernel)",
   "language": "python",
   "name": "python3"
  },
  "language_info": {
   "codemirror_mode": {
    "name": "ipython",
    "version": 3
   },
   "file_extension": ".py",
   "mimetype": "text/x-python",
   "name": "python",
   "nbconvert_exporter": "python",
   "pygments_lexer": "ipython3",
   "version": "3.9.6"
  }
 },
 "nbformat": 4,
 "nbformat_minor": 5
}
