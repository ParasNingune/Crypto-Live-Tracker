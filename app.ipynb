{
 "cells": [
  {
   "cell_type": "code",
   "execution_count": 170,
   "id": "1f9e8cfe-8af7-404c-bed7-fb40350172ac",
   "metadata": {},
   "outputs": [],
   "source": [
    "import gspread\n",
    "from google.oauth2.service_account import Credentials"
   ]
  },
  {
   "cell_type": "code",
   "execution_count": 171,
   "id": "bb341bdf-4368-4a1e-8ce6-f7e300e0f46c",
   "metadata": {},
   "outputs": [],
   "source": [
    "scopes = [\n",
    "    \"https://www.googleapis.com/auth/spreadsheets\"\n",
    "]\n",
    "\n",
    "creds = Credentials.from_service_account_file(\"credentials.json\", scopes=scopes)\n",
    "client = gspread.authorize(creds)"
   ]
  },
  {
   "cell_type": "code",
   "execution_count": 172,
   "id": "e32992b6-82ff-48ca-bb39-72e99102469b",
   "metadata": {},
   "outputs": [],
   "source": [
    "sheet_id = \"1-7XFGkuXXEC9HcnVubukZKdo5tqrieVLIga9L6bPKxk\"\n",
    "sheet = client.open_by_key(sheet_id).sheet1"
   ]
  },
  {
   "cell_type": "markdown",
   "id": "021ec16d-9052-4399-86d3-aec593f7d65f",
   "metadata": {},
   "source": [
    "# Fetch Live Data"
   ]
  },
  {
   "cell_type": "code",
   "execution_count": 173,
   "id": "af31f7ec-7e5c-4750-9d37-5475f26cc9d6",
   "metadata": {},
   "outputs": [],
   "source": [
    "import requests"
   ]
  },
  {
   "cell_type": "code",
   "execution_count": 174,
   "id": "a9652ba8-4cb5-46f8-ba42-c362206de5dd",
   "metadata": {},
   "outputs": [],
   "source": [
    "def fetch_crypto_data():\n",
    "    url = \"https://api.coingecko.com/api/v3/coins/markets\"\n",
    "    params = {\n",
    "        \"vs_currency\": \"usd\",          # Get prices in USD\n",
    "        \"order\": \"market_cap_desc\",    # Order by market capitalization\n",
    "        \"per_page\": 50,                # Number of cryptocurrencies to fetch\n",
    "        \"page\": 1,                     # Fetch the first page of results\n",
    "        \"sparkline\": False             # Exclude sparkline data\n",
    "    }\n",
    "\n",
    "    response = requests.get(url, params=params)\n",
    "\n",
    "    if response.status_code == 200:\n",
    "        data = response.json()\n",
    "        return data\n",
    "    else:\n",
    "        print(f\"Error: Unable to fetch data (Status Code: {response.status_code})\")\n",
    "        return None"
   ]
  },
  {
   "cell_type": "code",
   "execution_count": 175,
   "id": "0bfed970-5253-4a5e-bf5a-86ecef15e97f",
   "metadata": {},
   "outputs": [
    {
     "name": "stdout",
     "output_type": "stream",
     "text": [
      "Top 50 Cryptocurrencies:\n",
      "1. Bitcoin (BTC) - $93823 1858837258854 51174679602 -0.60705\n",
      "2. Ethereum (ETH) - $3254.19 392030975556 29061935144 -2.53401\n",
      "3. Tether (USDT) - $0.999901 137431825236 100554464845 0.03835\n",
      "4. XRP (XRP) - $2.29 131622983145 5082814875 -2.8578\n",
      "5. BNB (BNB) - $690.01 100665547360 1049009113 -1.35732\n",
      "6. Solana (SOL) - $189.12 91459464158 4576887586 -3.09192\n",
      "7. Dogecoin (DOGE) - $0.327608 48340152899 3612640670 -3.59201\n",
      "8. USDC (USDC) - $0.999987 45412954612 6194739018 -0.00073\n",
      "9. Cardano (ADA) - $0.918796 32946272493 1241103784 -2.205\n",
      "10. Lido Staked Ether (STETH) - $3252.18 31303473596 66796009 -2.36157\n",
      "11. TRON (TRX) - $0.240971 20772061339 1154422839 -2.67359\n",
      "12. Avalanche (AVAX) - $36.86 15130091326 408922647 -0.78216\n",
      "13. Sui (SUI) - $4.86 14622623920 1918595484 1.34102\n",
      "14. Wrapped stETH (WSTETH) - $3870.47 13654319627 58635119 -2.28366\n",
      "15. Toncoin (TON) - $5.21 13241808919 233191006 -1.61667\n",
      "16. Chainlink (LINK) - $19.95 12590016558 858062008 -1.76941\n",
      "17. Shiba Inu (SHIB) - $2.134e-05 12574341175 511320816 0.27375\n",
      "18. Wrapped Bitcoin (WBTC) - $93674 12344586264 461601657 -0.72015\n",
      "19. Stellar (XLM) - $0.395398 12009253690 477435911 -4.84355\n",
      "20. Hedera (HBAR) - $0.272436 10425071477 507267691 -1.68786\n",
      "21. Polkadot (DOT) - $6.62 10066482897 319399193 -1.93522\n",
      "22. WETH (WETH) - $3252.78 9817844544 656100450 -2.44398\n",
      "23. Bitcoin Cash (BCH) - $427.5 8472920198 228248669 -1.229\n",
      "24. LEO Token (LEO) - $9.1 8400309773 663662 0.02558\n",
      "25. Uniswap (UNI) - $13.32 8001920850 444374848 1.80526\n",
      "26. Bitget Token (BGB) - $6.6 7878147956 357065496 4.48855\n",
      "27. Litecoin (LTC) - $103.95 7838188045 663553286 1.69466\n",
      "28. Pepe (PEPE) - $1.729e-05 7274906969 1534337776 -3.46941\n",
      "29. Hyperliquid (HYPE) - $21.11 7045287661 343769664 -2.69628\n",
      "30. Wrapped eETH (WEETH) - $3438.04 6459259351 17491738 -2.41141\n",
      "31. NEAR Protocol (NEAR) - $5.04 5888389501 321591020 -1.25449\n",
      "32. Ethena USDe (USDE) - $0.998758 5791281796 122023246 -0.06583\n",
      "33. USDS (USDS) - $1.0 5780755367 19535843 -0.09778\n",
      "34. Internet Computer (ICP) - $10.39 4977436935 206528428 -3.39466\n",
      "35. Aptos (APT) - $8.71 4872320463 376102939 -2.38679\n",
      "36. Aave (AAVE) - $285.88 4306059483 599308949 -1.98122\n",
      "37. Mantle (MNT) - $1.17 3919993840 169305612 -2.64501\n",
      "38. POL (ex-MATIC) (POL) - $0.451595 3799132609 98844162 -2.36276\n",
      "39. Cronos (CRO) - $0.139353 3791504186 30290064 -3.22448\n",
      "40. Ethereum Classic (ETC) - $25.15 3779880791 153233502 -0.68748\n",
      "41. Render (RENDER) - $7.3 3770808454 203600789 -2.07822\n",
      "42. MANTRA (OM) - $3.92 3758007356 98553673 1.20618\n",
      "43. VeChain (VET) - $0.04450929 3604687232 64628259 -1.96118\n",
      "44. Monero (XMR) - $192.7 3554904642 54401183 -1.9917\n",
      "45. Bittensor (TAO) - $432.42 3521714057 137575209 -6.50653\n",
      "46. Artificial Superintelligence Alliance (FET) - $1.32 3442406641 431494267 -0.36558\n",
      "47. Dai (DAI) - $1.0 3431601446 146039983 -0.00469\n",
      "48. Tokenize Xchange (TKX) - $42.39 3391653788 26087025 -1.84583\n",
      "49. Virtuals Protocol (VIRTUAL) - $3.18 3178326789 502277483 -5.32449\n",
      "50. Filecoin (FIL) - $5.07 3142160195 289285113 -1.07234\n"
     ]
    }
   ],
   "source": [
    "crypto_data = fetch_crypto_data()\n",
    "if crypto_data:\n",
    "    print(\"Top 50 Cryptocurrencies:\")\n",
    "    for i, coin in enumerate(crypto_data, start=1):\n",
    "        print(f\"{i}. {coin['name']} ({coin['symbol'].upper()}) - ${coin['current_price']} {coin['market_cap']} {coin['total_volume']} {coin['price_change_percentage_24h']}\")"
   ]
  },
  {
   "cell_type": "markdown",
   "id": "f4afc18c-c05c-437e-be66-a48a49bf0e19",
   "metadata": {},
   "source": [
    "# Data Analysis"
   ]
  },
  {
   "cell_type": "code",
   "execution_count": 176,
   "id": "a82522f3-7f23-42ea-9c99-0f3f3b21399f",
   "metadata": {},
   "outputs": [],
   "source": [
    "def analyze_crypto_data(data):\n",
    "    \n",
    "    # Identify the top 5 cryptocurrencies by market capitalization\n",
    "    top_5_by_market_cap = sorted(data, key=lambda x: x['market_cap'], reverse=True)[:5]\n",
    "\n",
    "    # Calculate the average price of the top 50 cryptocurrencies\n",
    "    average_price = sum(coin['current_price'] for coin in data) / len(data)\n",
    "\n",
    "    # Find the highest and lowest percentage change in 24 hours\n",
    "    highest_change = max(data, key=lambda x: x['price_change_percentage_24h'])\n",
    "    lowest_change = min(data, key=lambda x: x['price_change_percentage_24h'])\n",
    "\n",
    "    # Display the analysis results\n",
    "    print(\"\\n--- Data Analysis ---\")\n",
    "    print(\"\\nTop 5 Cryptocurrencies by Market Cap:\")\n",
    "    i=1\n",
    "    for coin in top_5_by_market_cap:\n",
    "        print(f\"{i}. {coin['name']} ({coin['symbol'].upper()}) - Market Cap: ${coin['market_cap']:,}\")\n",
    "        i += 1\n",
    "\n",
    "    print(f\"\\nAverage Price of Top 50 Cryptocurrencies: ${average_price:.2f}\")\n",
    "    print(f\"\\nHighest 24h % Change: {highest_change['name']} ({highest_change['price_change_percentage_24h']:.2f}%)\")\n",
    "    print(f\"Lowest 24h % Change: {lowest_change['name']} ({lowest_change['price_change_percentage_24h']:.2f}%)\")"
   ]
  },
  {
   "cell_type": "code",
   "execution_count": 177,
   "id": "bc5b650c-c5a1-44fc-bf2c-43b0bef23e51",
   "metadata": {},
   "outputs": [
    {
     "name": "stdout",
     "output_type": "stream",
     "text": [
      "\n",
      "--- Data Analysis ---\n",
      "\n",
      "Top 5 Cryptocurrencies by Market Cap:\n",
      "1. Bitcoin (BTC) - Market Cap: $1,858,837,258,854\n",
      "2. Ethereum (ETH) - Market Cap: $392,030,975,556\n",
      "3. Tether (USDT) - Market Cap: $137,431,825,236\n",
      "4. XRP (XRP) - Market Cap: $131,622,983,145\n",
      "5. BNB (BNB) - Market Cap: $100,665,547,360\n",
      "\n",
      "Average Price of Top 50 Cryptocurrencies: $4142.67\n",
      "\n",
      "Highest 24h % Change: Bitget Token (4.49%)\n",
      "Lowest 24h % Change: Bittensor (-6.51%)\n"
     ]
    }
   ],
   "source": [
    "analyze_crypto_data(crypto_data)"
   ]
  },
  {
   "cell_type": "markdown",
   "id": "1799a638-6de7-45e6-b76c-9238040b55ac",
   "metadata": {},
   "source": [
    "# Live-Running Excel Sheet"
   ]
  },
  {
   "cell_type": "code",
   "execution_count": 178,
   "id": "5671b8d1-38ce-45d5-a623-d3838e5a9de9",
   "metadata": {},
   "outputs": [],
   "source": [
    "import openpyxl\n",
    "import time\n",
    "from openpyxl.styles import PatternFill\n",
    "import os\n",
    "from fpdf import FPDF"
   ]
  },
  {
   "cell_type": "code",
   "execution_count": 179,
   "id": "66c2693b-0a9d-4c73-ab44-4a4de4d2aaeb",
   "metadata": {},
   "outputs": [],
   "source": [
    "def update_google_sheet(data):\n",
    "   \n",
    "    headers = ['Cryptocurrency Name', 'Symbol', 'Current Price (USD)', 'Market Capitalization',\n",
    "               '24-hour Trading Volume', 'Price Change (24h, %)']\n",
    "    \n",
    "    existing_data = sheet.get_all_values()\n",
    "\n",
    "    if len(existing_data) == 0:\n",
    "        sheet.append_row(headers)\n",
    "        existing_data = [headers]\n",
    "\n",
    "    for coin in data:\n",
    "        updated = False\n",
    "        for i, row in enumerate(existing_data[1:], start=1):\n",
    "            if row[1].upper() == coin['symbol'].upper():\n",
    "                \n",
    "                existing_data[i] = [\n",
    "                    coin['name'],\n",
    "                    coin['symbol'].upper(),\n",
    "                    coin['current_price'],\n",
    "                    coin['market_cap'],\n",
    "                    coin['total_volume'],\n",
    "                    coin['price_change_percentage_24h']\n",
    "                ]\n",
    "                updated = True\n",
    "                break\n",
    "\n",
    "        if not updated:\n",
    "            existing_data.append([\n",
    "                coin['name'],\n",
    "                coin['symbol'].upper(),\n",
    "                coin['current_price'],\n",
    "                coin['market_cap'],\n",
    "                coin['total_volume'],\n",
    "                coin['price_change_percentage_24h']\n",
    "            ])\n",
    "\n",
    "    sheet.clear()\n",
    "    sheet.append_rows(existing_data, value_input_option=\"USER_ENTERED\")"
   ]
  },
  {
   "cell_type": "code",
   "execution_count": 180,
   "id": "b46203f8-6cbc-4d92-a576-6b9c43a1b2f8",
   "metadata": {},
   "outputs": [],
   "source": [
    "def update_excel_sheet(data):\n",
    "    file_path = 'crypto_data.xlsx'\n",
    "    \n",
    "    if os.path.exists(file_path):\n",
    "        workbook = openpyxl.load_workbook(file_path)\n",
    "        sheet = workbook.active\n",
    "    else:\n",
    "        workbook = openpyxl.Workbook()\n",
    "        sheet = workbook.active\n",
    "        sheet['A1'] = 'Cryptocurrency Name'\n",
    "        sheet['B1'] = 'Symbol'\n",
    "        sheet['C1'] = 'Current Price (USD)'\n",
    "        sheet['D1'] = 'Market Capitalization'\n",
    "        sheet['E1'] = '24-hour Trading Volume'\n",
    "        sheet['F1'] = 'Price Change (24h, %)'\n",
    "\n",
    "    # Create fill styles for row highlighting\n",
    "    red_fill = PatternFill(start_color='FFCCCB', end_color='FFCCCB', fill_type='solid')  # Red for decrease\n",
    "    green_fill = PatternFill(start_color='90EE90', end_color='90EE90', fill_type='solid')  # Green for increase\n",
    "\n",
    "    for coin in data:\n",
    "        # Check if the coin already exists in the sheet by its name (column A)\n",
    "        existing_row = None\n",
    "        for row in range(2, sheet.max_row + 1):  # Skip header row\n",
    "            if sheet[f'A{row}'].value == coin['name']:\n",
    "                existing_row = row\n",
    "                break\n",
    "\n",
    "        if existing_row:\n",
    "            # Update existing row\n",
    "            sheet[f'C{existing_row}'] = coin['current_price']\n",
    "            sheet[f'D{existing_row}'] = coin['market_cap']\n",
    "            sheet[f'E{existing_row}'] = coin['total_volume']\n",
    "            sheet[f'F{existing_row}'] = coin['price_change_percentage_24h']\n",
    "\n",
    "            price_change = coin['price_change_percentage_24h']\n",
    "            \n",
    "            # Apply color fill based on price change\n",
    "            fill = green_fill if price_change >= 0 else red_fill\n",
    "            for col in range(1, 7):  # Columns A to F\n",
    "                sheet.cell(row=existing_row, column=col).fill = fill\n",
    "        else:\n",
    "            # Add new row for the cryptocurrency\n",
    "            row = sheet.max_row + 1\n",
    "            sheet[f'A{row}'] = coin['name']\n",
    "            sheet[f'B{row}'] = coin['symbol'].upper()\n",
    "            sheet[f'C{row}'] = coin['current_price']\n",
    "            sheet[f'D{row}'] = coin['market_cap']\n",
    "            sheet[f'E{row}'] = coin['total_volume']\n",
    "            sheet[f'F{row}'] = coin['price_change_percentage_24h']\n",
    "\n",
    "            price_change = coin['price_change_percentage_24h']\n",
    "            \n",
    "            # Apply color fill based on price change\n",
    "            fill = green_fill if price_change >= 0 else red_fill\n",
    "            for col in range(1, 7):  # Columns A to F\n",
    "                sheet.cell(row=row, column=col).fill = fill\n",
    "\n",
    "    workbook.save(file_path)"
   ]
  },
  {
   "cell_type": "code",
   "execution_count": 181,
   "id": "5559d7a7-d78a-4221-a95f-c1e59888572b",
   "metadata": {},
   "outputs": [],
   "source": [
    "def generate_analysis_report(data):\n",
    "    pdf = FPDF()\n",
    "    pdf.set_auto_page_break(auto=True, margin=15)\n",
    "    pdf.add_page()\n",
    "\n",
    "    pdf.set_font('Arial', 'B', 16)\n",
    "    pdf.cell(200, 10, txt=\"Cryptocurrency Market Analysis\", ln=True, align='C')\n",
    "\n",
    "    pdf.set_font('Arial', '', 12)\n",
    "    pdf.ln(10)\n",
    "    pdf.cell(200, 10, txt=\"Key Insights and Analysis\", ln=True)\n",
    "\n",
    "    pdf.ln(10)\n",
    "    pdf.set_font('Arial', '', 10)\n",
    "    pdf.cell(30, 10, 'Name', border=1)\n",
    "    pdf.cell(30, 10, 'Symbol', border=1)\n",
    "    pdf.cell(50, 10, 'Current Price (USD)', border=1)\n",
    "    pdf.cell(50, 10, '24h Change (%)', border=1)\n",
    "    pdf.ln(10)\n",
    "\n",
    "    for coin in data:\n",
    "        pdf.cell(30, 10, coin['name'], border=1)\n",
    "        pdf.cell(30, 10, coin['symbol'], border=1)\n",
    "        pdf.cell(50, 10, f\"${coin['current_price']}\", border=1)\n",
    "        pdf.cell(50, 10, f\"{coin['price_change_percentage_24h']}%\", border=1)\n",
    "        pdf.ln(10)\n",
    "\n",
    "    pdf.output(\"analysis_report.pdf\")"
   ]
  },
  {
   "cell_type": "code",
   "execution_count": 182,
   "id": "5875f383-be8d-4c63-be15-34bcfac95628",
   "metadata": {},
   "outputs": [],
   "source": [
    "def run_live_updates():\n",
    "    while True:\n",
    "        crypto_data = fetch_crypto_data()\n",
    "        if crypto_data:\n",
    "            #update_excel_sheet(crypto_data)\n",
    "            update_google_sheet(crypto_data)\n",
    "            #generate_analysis_report(crypto_data)\n",
    "            \n",
    "        time.sleep(300)"
   ]
  },
  {
   "cell_type": "code",
   "execution_count": 183,
   "id": "6a6d586c-925c-44f0-aad7-1b475e8fede7",
   "metadata": {},
   "outputs": [
    {
     "ename": "KeyboardInterrupt",
     "evalue": "",
     "output_type": "error",
     "traceback": [
      "\u001b[0;31m---------------------------------------------------------------------------\u001b[0m",
      "\u001b[0;31mKeyboardInterrupt\u001b[0m                         Traceback (most recent call last)",
      "Cell \u001b[0;32mIn[183], line 1\u001b[0m\n\u001b[0;32m----> 1\u001b[0m \u001b[43mrun_live_updates\u001b[49m\u001b[43m(\u001b[49m\u001b[43m)\u001b[49m\n",
      "Cell \u001b[0;32mIn[182], line 9\u001b[0m, in \u001b[0;36mrun_live_updates\u001b[0;34m()\u001b[0m\n\u001b[1;32m      6\u001b[0m     update_google_sheet(crypto_data)\n\u001b[1;32m      7\u001b[0m     \u001b[38;5;66;03m#generate_analysis_report(crypto_data)\u001b[39;00m\n\u001b[0;32m----> 9\u001b[0m \u001b[43mtime\u001b[49m\u001b[38;5;241;43m.\u001b[39;49m\u001b[43msleep\u001b[49m\u001b[43m(\u001b[49m\u001b[38;5;241;43m300\u001b[39;49m\u001b[43m)\u001b[49m\n",
      "\u001b[0;31mKeyboardInterrupt\u001b[0m: "
     ]
    }
   ],
   "source": [
    "run_live_updates()"
   ]
  },
  {
   "cell_type": "code",
   "execution_count": null,
   "id": "97eba32e-ece6-492a-97c5-39421917c956",
   "metadata": {},
   "outputs": [],
   "source": []
  }
 ],
 "metadata": {
  "kernelspec": {
   "display_name": "Python 3 (ipykernel)",
   "language": "python",
   "name": "python3"
  },
  "language_info": {
   "codemirror_mode": {
    "name": "ipython",
    "version": 3
   },
   "file_extension": ".py",
   "mimetype": "text/x-python",
   "name": "python",
   "nbconvert_exporter": "python",
   "pygments_lexer": "ipython3",
   "version": "3.9.6"
  }
 },
 "nbformat": 4,
 "nbformat_minor": 5
}
