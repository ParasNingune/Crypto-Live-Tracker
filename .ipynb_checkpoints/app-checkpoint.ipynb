{
 "cells": [
  {
   "cell_type": "code",
   "execution_count": 109,
   "id": "f8c39df2-547e-4c65-ba32-8f9ce45b71c2",
   "metadata": {},
   "outputs": [],
   "source": [
    "def authenticate_google_sheets():\n",
    "    scope = [\"https://spreadsheets.google.com/feeds\", \"https://www.googleapis.com/auth/spreadsheets\", \"https://www.googleapis.com/auth/drive\"]\n",
    "    creds = ServiceAccountCredentials.from_json_keyfile_name('credentials.json', scope)\n",
    "    client = gspread.authorize(creds)\n",
    "    return client"
   ]
  },
  {
   "cell_type": "markdown",
   "id": "021ec16d-9052-4399-86d3-aec593f7d65f",
   "metadata": {},
   "source": [
    "# Fetch Live Data"
   ]
  },
  {
   "cell_type": "code",
   "execution_count": 110,
   "id": "af31f7ec-7e5c-4750-9d37-5475f26cc9d6",
   "metadata": {},
   "outputs": [],
   "source": [
    "import requests"
   ]
  },
  {
   "cell_type": "code",
   "execution_count": 111,
   "id": "a9652ba8-4cb5-46f8-ba42-c362206de5dd",
   "metadata": {},
   "outputs": [],
   "source": [
    "def fetch_crypto_data():\n",
    "    url = \"https://api.coingecko.com/api/v3/coins/markets\"\n",
    "    params = {\n",
    "        \"vs_currency\": \"usd\",          # Get prices in USD\n",
    "        \"order\": \"market_cap_desc\",    # Order by market capitalization\n",
    "        \"per_page\": 50,                # Number of cryptocurrencies to fetch\n",
    "        \"page\": 1,                     # Fetch the first page of results\n",
    "        \"sparkline\": False             # Exclude sparkline data\n",
    "    }\n",
    "\n",
    "    response = requests.get(url, params=params)\n",
    "\n",
    "    if response.status_code == 200:\n",
    "        data = response.json()\n",
    "        return data\n",
    "    else:\n",
    "        print(f\"Error: Unable to fetch data (Status Code: {response.status_code})\")\n",
    "        return None"
   ]
  },
  {
   "cell_type": "code",
   "execution_count": 112,
   "id": "0bfed970-5253-4a5e-bf5a-86ecef15e97f",
   "metadata": {},
   "outputs": [
    {
     "name": "stdout",
     "output_type": "stream",
     "text": [
      "Top 50 Cryptocurrencies:\n",
      "1. Bitcoin (BTC) - $93455 1849908527030 56522248405 -0.20733\n",
      "2. Ethereum (ETH) - $3271.4 393666218868 28936645793 0.9418\n",
      "3. Tether (USDT) - $0.99987 137584062785 85738445279 -0.06312\n",
      "4. XRP (XRP) - $2.32 133016763091 6471270270 3.46392\n",
      "5. BNB (BNB) - $691.11 100759902581 1169150270 0.93361\n",
      "6. Solana (SOL) - $189.32 91558415403 4579800263 -1.0558\n",
      "7. Dogecoin (DOGE) - $0.324165 47893197310 3956711910 -2.22146\n",
      "8. USDC (USDC) - $0.999994 45362422244 4122405717 -0.05454\n",
      "9. Cardano (ADA) - $0.921258 32938755474 1723066240 -0.64373\n",
      "10. Lido Staked Ether (STETH) - $3269.19 31466088552 63561740 0.75688\n",
      "11. TRON (TRX) - $0.243249 20931183438 1263771828 -1.1325\n",
      "12. Avalanche (AVAX) - $36.81 15113818653 440544191 -0.23325\n",
      "13. Sui (SUI) - $4.78 14366991564 2114301802 5.43356\n",
      "14. Wrapped stETH (WSTETH) - $3920.19 13830907310 59310908 0.80214\n",
      "15. Toncoin (TON) - $5.22 13259030073 257509152 0.34528\n",
      "16. Shiba Inu (SHIB) - $2.153e-05 12683605275 532545741 3.70718\n",
      "17. Chainlink (LINK) - $19.91 12553876341 977868211 -0.37823\n",
      "18. Wrapped Bitcoin (WBTC) - $93288 12326831389 573110826 -0.19083\n",
      "19. Stellar (XLM) - $0.403577 12249682879 603270217 0.45416\n",
      "20. Hedera (HBAR) - $0.274184 10475699766 599889357 0.55246\n",
      "21. Polkadot (DOT) - $6.71 10209783693 368505990 1.98298\n",
      "22. WETH (WETH) - $3269.92 9844954069 690907555 0.85272\n",
      "23. Bitcoin Cash (BCH) - $425.39 8421730049 252502250 0.05366\n",
      "24. LEO Token (LEO) - $9.05 8370946822 764700 0.00204\n",
      "25. Litecoin (LTC) - $103.79 7811335905 700330112 4.92566\n",
      "26. Bitget Token (BGB) - $6.36 7641766702 360967431 0.7389\n",
      "27. Uniswap (UNI) - $12.73 7641233282 351052602 -0.12803\n",
      "28. Pepe (PEPE) - $1.751e-05 7361051283 1716598671 1.00204\n",
      "29. Hyperliquid (HYPE) - $20.4 6812359484 326355716 -3.10736\n",
      "30. Wrapped eETH (WEETH) - $3455.47 6472813388 11179082 0.85378\n",
      "31. NEAR Protocol (NEAR) - $5.03 5878525791 368956894 0.88838\n",
      "32. Ethena USDe (USDE) - $0.998524 5789753294 153771736 -0.11435\n",
      "33. USDS (USDS) - $0.999717 5735052060 17154459 -0.07258\n",
      "34. Internet Computer (ICP) - $10.36 4962950666 217793135 -1.93293\n",
      "35. Aptos (APT) - $8.77 4900239276 406609795 -0.33262\n",
      "36. Aave (AAVE) - $286.3 4306967436 635391252 2.24604\n",
      "37. Mantle (MNT) - $1.16 3889757763 168380326 -1.87224\n",
      "38. POL (ex-MATIC) (POL) - $0.455496 3831087016 109680580 1.71488\n",
      "39. MANTRA (OM) - $3.98 3818458631 101637027 2.88429\n",
      "40. Cronos (CRO) - $0.140085 3808802368 30746383 -1.13861\n",
      "41. Ethereum Classic (ETC) - $25.09 3767877056 218306927 1.59644\n",
      "42. Render (RENDER) - $7.23 3741442595 227293037 -1.28228\n",
      "43. Bittensor (TAO) - $450.83 3662062473 123467237 0.13895\n",
      "44. VeChain (VET) - $0.04483551 3625626869 77290065 2.42419\n",
      "45. Monero (XMR) - $195.37 3599560240 60508286 -0.063\n",
      "46. Tokenize Xchange (TKX) - $43.01 3433518368 29018380 -1.76868\n",
      "47. Artificial Superintelligence Alliance (FET) - $1.31 3410985376 461427351 1.36974\n",
      "48. Dai (DAI) - $1.0 3407215365 139982953 -0.06978\n",
      "49. Virtuals Protocol (VIRTUAL) - $3.23 3228028379 555447688 -6.12698\n",
      "50. Arbitrum (ARB) - $0.761682 3206973891 427884288 -1.0431\n"
     ]
    }
   ],
   "source": [
    "crypto_data = fetch_crypto_data()\n",
    "if crypto_data:\n",
    "    print(\"Top 50 Cryptocurrencies:\")\n",
    "    for i, coin in enumerate(crypto_data, start=1):\n",
    "        print(f\"{i}. {coin['name']} ({coin['symbol'].upper()}) - ${coin['current_price']} {coin['market_cap']} {coin['total_volume']} {coin['price_change_percentage_24h']}\")"
   ]
  },
  {
   "cell_type": "markdown",
   "id": "f4afc18c-c05c-437e-be66-a48a49bf0e19",
   "metadata": {},
   "source": [
    "# Data Analysis"
   ]
  },
  {
   "cell_type": "code",
   "execution_count": 113,
   "id": "a82522f3-7f23-42ea-9c99-0f3f3b21399f",
   "metadata": {},
   "outputs": [],
   "source": [
    "def analyze_crypto_data(data):\n",
    "    \n",
    "    # Identify the top 5 cryptocurrencies by market capitalization\n",
    "    top_5_by_market_cap = sorted(data, key=lambda x: x['market_cap'], reverse=True)[:5]\n",
    "\n",
    "    # Calculate the average price of the top 50 cryptocurrencies\n",
    "    average_price = sum(coin['current_price'] for coin in data) / len(data)\n",
    "\n",
    "    # Find the highest and lowest percentage change in 24 hours\n",
    "    highest_change = max(data, key=lambda x: x['price_change_percentage_24h'])\n",
    "    lowest_change = min(data, key=lambda x: x['price_change_percentage_24h'])\n",
    "\n",
    "    # Display the analysis results\n",
    "    print(\"\\n--- Data Analysis ---\")\n",
    "    print(\"\\nTop 5 Cryptocurrencies by Market Cap:\")\n",
    "    i=1\n",
    "    for coin in top_5_by_market_cap:\n",
    "        print(f\"{i}. {coin['name']} ({coin['symbol'].upper()}) - Market Cap: ${coin['market_cap']:,}\")\n",
    "        i += 1\n",
    "\n",
    "    print(f\"\\nAverage Price of Top 50 Cryptocurrencies: ${average_price:.2f}\")\n",
    "    print(f\"\\nHighest 24h % Change: {highest_change['name']} ({highest_change['price_change_percentage_24h']:.2f}%)\")\n",
    "    print(f\"Lowest 24h % Change: {lowest_change['name']} ({lowest_change['price_change_percentage_24h']:.2f}%)\")"
   ]
  },
  {
   "cell_type": "code",
   "execution_count": 114,
   "id": "bc5b650c-c5a1-44fc-bf2c-43b0bef23e51",
   "metadata": {},
   "outputs": [
    {
     "name": "stdout",
     "output_type": "stream",
     "text": [
      "\n",
      "--- Data Analysis ---\n",
      "\n",
      "Top 5 Cryptocurrencies by Market Cap:\n",
      "1. Bitcoin (BTC) - Market Cap: $1,849,908,527,030\n",
      "2. Ethereum (ETH) - Market Cap: $393,666,218,868\n",
      "3. Tether (USDT) - Market Cap: $137,584,062,785\n",
      "4. XRP (XRP) - Market Cap: $133,016,763,091\n",
      "5. BNB (BNB) - Market Cap: $100,759,902,581\n",
      "\n",
      "Average Price of Top 50 Cryptocurrencies: $4130.27\n",
      "\n",
      "Highest 24h % Change: Sui (5.43%)\n",
      "Lowest 24h % Change: Virtuals Protocol (-6.13%)\n"
     ]
    }
   ],
   "source": [
    "analyze_crypto_data(crypto_data)"
   ]
  },
  {
   "cell_type": "markdown",
   "id": "1799a638-6de7-45e6-b76c-9238040b55ac",
   "metadata": {},
   "source": [
    "# Live-Running Excel Sheet"
   ]
  },
  {
   "cell_type": "code",
   "execution_count": 115,
   "id": "5671b8d1-38ce-45d5-a623-d3838e5a9de9",
   "metadata": {},
   "outputs": [],
   "source": [
    "import openpyxl\n",
    "import time\n",
    "from openpyxl.styles import PatternFill\n",
    "import os\n",
    "from fpdf import FPDF\n",
    "import gspread\n",
    "from oauth2client.service_account import ServiceAccountCredentials\n",
    "import time"
   ]
  },
  {
   "cell_type": "code",
   "execution_count": 116,
   "id": "62b18b11-fa9d-4ff9-a1d6-2e9ee4c3c98b",
   "metadata": {},
   "outputs": [],
   "source": [
    "def update_excel_sheet(data):\n",
    "    file_path = 'crypto_data.xlsx'\n",
    "    \n",
    "    if os.path.exists(file_path):\n",
    "        workbook = openpyxl.load_workbook(file_path)\n",
    "        sheet = workbook.active\n",
    "    else:\n",
    "        \n",
    "        workbook = openpyxl.Workbook()\n",
    "        sheet = workbook.active\n",
    "\n",
    "        \n",
    "        sheet['A1'] = 'Cryptocurrency Name'\n",
    "        sheet['B1'] = 'Symbol'\n",
    "        sheet['C1'] = 'Current Price (USD)'\n",
    "        sheet['D1'] = 'Market Capitalization'\n",
    "        sheet['E1'] = '24-hour Trading Volume'\n",
    "        sheet['F1'] = 'Price Change (24h, %)'\n",
    "\n",
    "    # Create fill styles for row highlighting\n",
    "    red_fill = PatternFill(start_color='FFCCCB', end_color='FFCCCB', fill_type='solid')  # Red for decrease\n",
    "    green_fill = PatternFill(start_color='90EE90', end_color='90EE90', fill_type='solid')  # Green for increase\n",
    "\n",
    "    # Write data for each cryptocurrency\n",
    "    row = sheet.max_row + 1\n",
    "    for coin in data:\n",
    "        sheet[f'A{row}'] = coin['name']\n",
    "        sheet[f'B{row}'] = coin['symbol'].upper()\n",
    "        sheet[f'C{row}'] = coin['current_price']\n",
    "        sheet[f'D{row}'] = coin['market_cap']\n",
    "        sheet[f'E{row}'] = coin['total_volume']\n",
    "        sheet[f'F{row}'] = coin['price_change_percentage_24h']\n",
    "\n",
    "\n",
    "        price_change = coin['price_change_percentage_24h']\n",
    "        \n",
    "        if price_change < 0:\n",
    "            for col in range(1, 7):\n",
    "                sheet.cell(row=row, column=col).fill = red_fill\n",
    "        else:\n",
    "            \n",
    "            for col in range(1, 7):  # Columns A to F\n",
    "                sheet.cell(row=row, column=col).fill = green_fill\n",
    "\n",
    "        row += 1\n",
    "    \n",
    "    workbook.save(file_path)"
   ]
  },
  {
   "cell_type": "code",
   "execution_count": 117,
   "id": "56275487-bee7-4b32-a3e3-3596d87bc3e5",
   "metadata": {},
   "outputs": [],
   "source": [
    "def update_google_sheet(data, sheet):\n",
    "    \n",
    "    for i, coin in enumerate(data, start=2):\n",
    "        sheet.update_cell(i, 1, coin['name'])\n",
    "        sheet.update_cell(i, 2, coin['symbol'])\n",
    "        sheet.update_cell(i, 3, coin['current_price'])\n",
    "        sheet.update_cell(i, 4, coin['market_cap'])\n",
    "        sheet.update_cell(i, 5, coin['total_volume'])\n",
    "        sheet.update_cell(i, 6, coin['price_change_percentage_24h'])"
   ]
  },
  {
   "cell_type": "code",
   "execution_count": 118,
   "id": "5559d7a7-d78a-4221-a95f-c1e59888572b",
   "metadata": {},
   "outputs": [],
   "source": [
    "def generate_analysis_report(data):\n",
    "    pdf = FPDF()\n",
    "    pdf.set_auto_page_break(auto=True, margin=15)\n",
    "    pdf.add_page()\n",
    "\n",
    "    pdf.set_font('Arial', 'B', 16)\n",
    "    pdf.cell(200, 10, txt=\"Cryptocurrency Market Analysis\", ln=True, align='C')\n",
    "\n",
    "    pdf.set_font('Arial', '', 12)\n",
    "    pdf.ln(10)\n",
    "    pdf.cell(200, 10, txt=\"Key Insights and Analysis\", ln=True)\n",
    "\n",
    "    pdf.ln(10)\n",
    "    pdf.set_font('Arial', '', 10)\n",
    "    pdf.cell(30, 10, 'Name', border=1)\n",
    "    pdf.cell(30, 10, 'Symbol', border=1)\n",
    "    pdf.cell(50, 10, 'Current Price (USD)', border=1)\n",
    "    pdf.cell(50, 10, '24h Change (%)', border=1)\n",
    "    pdf.ln(10)\n",
    "\n",
    "    for coin in data:\n",
    "        pdf.cell(30, 10, coin['name'], border=1)\n",
    "        pdf.cell(30, 10, coin['symbol'], border=1)\n",
    "        pdf.cell(50, 10, f\"${coin['current_price']}\", border=1)\n",
    "        pdf.cell(50, 10, f\"{coin['price_change_percentage_24h']}%\", border=1)\n",
    "        pdf.ln(10)\n",
    "\n",
    "    pdf.output(\"analysis_report.pdf\")"
   ]
  },
  {
   "cell_type": "code",
   "execution_count": 119,
   "id": "5875f383-be8d-4c63-be15-34bcfac95628",
   "metadata": {},
   "outputs": [],
   "source": [
    "def run_live_updates():\n",
    "    client = authenticate_google_sheets()\n",
    "    sheet = client.open(\"crypto_data\").sheet1\n",
    "    while True:\n",
    "        crypto_data = fetch_crypto_data()\n",
    "        if crypto_data:\n",
    "            update_google_sheet(crypto_data, sheet)\n",
    "            generate_analysis_report(crypto_data)\n",
    "            print(\"Updated\")\n",
    "        time.sleep(60)  # Wait for 5 minutes (300 seconds)"
   ]
  },
  {
   "cell_type": "code",
   "execution_count": 120,
   "id": "6a6d586c-925c-44f0-aad7-1b475e8fede7",
   "metadata": {},
   "outputs": [
    {
     "ename": "SpreadsheetNotFound",
     "evalue": "<Response [200]>",
     "output_type": "error",
     "traceback": [
      "\u001b[0;31m---------------------------------------------------------------------------\u001b[0m",
      "\u001b[0;31mStopIteration\u001b[0m                             Traceback (most recent call last)",
      "File \u001b[0;32m~/Library/Python/3.9/lib/python/site-packages/gspread/client.py:134\u001b[0m, in \u001b[0;36mClient.open\u001b[0;34m(self, title, folder_id)\u001b[0m\n\u001b[1;32m    133\u001b[0m \u001b[38;5;28;01mtry\u001b[39;00m:\n\u001b[0;32m--> 134\u001b[0m     properties \u001b[38;5;241m=\u001b[39m \u001b[43mfinditem\u001b[49m\u001b[43m(\u001b[49m\n\u001b[1;32m    135\u001b[0m \u001b[43m        \u001b[49m\u001b[38;5;28;43;01mlambda\u001b[39;49;00m\u001b[43m \u001b[49m\u001b[43mx\u001b[49m\u001b[43m:\u001b[49m\u001b[43m \u001b[49m\u001b[43mx\u001b[49m\u001b[43m[\u001b[49m\u001b[38;5;124;43m\"\u001b[39;49m\u001b[38;5;124;43mname\u001b[39;49m\u001b[38;5;124;43m\"\u001b[39;49m\u001b[43m]\u001b[49m\u001b[43m \u001b[49m\u001b[38;5;241;43m==\u001b[39;49m\u001b[43m \u001b[49m\u001b[43mtitle\u001b[49m\u001b[43m,\u001b[49m\n\u001b[1;32m    136\u001b[0m \u001b[43m        \u001b[49m\u001b[43mspreadsheet_files\u001b[49m\u001b[43m,\u001b[49m\n\u001b[1;32m    137\u001b[0m \u001b[43m    \u001b[49m\u001b[43m)\u001b[49m\n\u001b[1;32m    138\u001b[0m \u001b[38;5;28;01mexcept\u001b[39;00m \u001b[38;5;167;01mStopIteration\u001b[39;00m \u001b[38;5;28;01mas\u001b[39;00m ex:\n",
      "File \u001b[0;32m~/Library/Python/3.9/lib/python/site-packages/gspread/utils.py:218\u001b[0m, in \u001b[0;36mfinditem\u001b[0;34m(func, seq)\u001b[0m\n\u001b[1;32m    217\u001b[0m \u001b[38;5;250m\u001b[39m\u001b[38;5;124;03m\"\"\"Finds and returns first item in iterable for which func(item) is True.\"\"\"\u001b[39;00m\n\u001b[0;32m--> 218\u001b[0m \u001b[38;5;28;01mreturn\u001b[39;00m \u001b[38;5;28;43mnext\u001b[39;49m\u001b[43m(\u001b[49m\u001b[43mitem\u001b[49m\u001b[43m \u001b[49m\u001b[38;5;28;43;01mfor\u001b[39;49;00m\u001b[43m \u001b[49m\u001b[43mitem\u001b[49m\u001b[43m \u001b[49m\u001b[38;5;129;43;01min\u001b[39;49;00m\u001b[43m \u001b[49m\u001b[43mseq\u001b[49m\u001b[43m \u001b[49m\u001b[38;5;28;43;01mif\u001b[39;49;00m\u001b[43m \u001b[49m\u001b[43mfunc\u001b[49m\u001b[43m(\u001b[49m\u001b[43mitem\u001b[49m\u001b[43m)\u001b[49m\u001b[43m)\u001b[49m\n",
      "\u001b[0;31mStopIteration\u001b[0m: ",
      "\nThe above exception was the direct cause of the following exception:\n",
      "\u001b[0;31mSpreadsheetNotFound\u001b[0m                       Traceback (most recent call last)",
      "Cell \u001b[0;32mIn[120], line 1\u001b[0m\n\u001b[0;32m----> 1\u001b[0m \u001b[43mrun_live_updates\u001b[49m\u001b[43m(\u001b[49m\u001b[43m)\u001b[49m\n",
      "Cell \u001b[0;32mIn[119], line 3\u001b[0m, in \u001b[0;36mrun_live_updates\u001b[0;34m()\u001b[0m\n\u001b[1;32m      1\u001b[0m \u001b[38;5;28;01mdef\u001b[39;00m \u001b[38;5;21mrun_live_updates\u001b[39m():\n\u001b[1;32m      2\u001b[0m     client \u001b[38;5;241m=\u001b[39m authenticate_google_sheets()\n\u001b[0;32m----> 3\u001b[0m     sheet \u001b[38;5;241m=\u001b[39m \u001b[43mclient\u001b[49m\u001b[38;5;241;43m.\u001b[39;49m\u001b[43mopen\u001b[49m\u001b[43m(\u001b[49m\u001b[38;5;124;43m\"\u001b[39;49m\u001b[38;5;124;43mcrypto_data\u001b[39;49m\u001b[38;5;124;43m\"\u001b[39;49m\u001b[43m)\u001b[49m\u001b[38;5;241m.\u001b[39msheet1\n\u001b[1;32m      4\u001b[0m     \u001b[38;5;28;01mwhile\u001b[39;00m \u001b[38;5;28;01mTrue\u001b[39;00m:\n\u001b[1;32m      5\u001b[0m         crypto_data \u001b[38;5;241m=\u001b[39m fetch_crypto_data()\n",
      "File \u001b[0;32m~/Library/Python/3.9/lib/python/site-packages/gspread/client.py:139\u001b[0m, in \u001b[0;36mClient.open\u001b[0;34m(self, title, folder_id)\u001b[0m\n\u001b[1;32m    134\u001b[0m     properties \u001b[38;5;241m=\u001b[39m finditem(\n\u001b[1;32m    135\u001b[0m         \u001b[38;5;28;01mlambda\u001b[39;00m x: x[\u001b[38;5;124m\"\u001b[39m\u001b[38;5;124mname\u001b[39m\u001b[38;5;124m\"\u001b[39m] \u001b[38;5;241m==\u001b[39m title,\n\u001b[1;32m    136\u001b[0m         spreadsheet_files,\n\u001b[1;32m    137\u001b[0m     )\n\u001b[1;32m    138\u001b[0m \u001b[38;5;28;01mexcept\u001b[39;00m \u001b[38;5;167;01mStopIteration\u001b[39;00m \u001b[38;5;28;01mas\u001b[39;00m ex:\n\u001b[0;32m--> 139\u001b[0m     \u001b[38;5;28;01mraise\u001b[39;00m SpreadsheetNotFound(response) \u001b[38;5;28;01mfrom\u001b[39;00m \u001b[38;5;21;01mex\u001b[39;00m\n\u001b[1;32m    141\u001b[0m \u001b[38;5;66;03m# Drive uses different terminology\u001b[39;00m\n\u001b[1;32m    142\u001b[0m properties[\u001b[38;5;124m\"\u001b[39m\u001b[38;5;124mtitle\u001b[39m\u001b[38;5;124m\"\u001b[39m] \u001b[38;5;241m=\u001b[39m properties[\u001b[38;5;124m\"\u001b[39m\u001b[38;5;124mname\u001b[39m\u001b[38;5;124m\"\u001b[39m]\n",
      "\u001b[0;31mSpreadsheetNotFound\u001b[0m: <Response [200]>"
     ]
    }
   ],
   "source": [
    "run_live_updates()"
   ]
  },
  {
   "cell_type": "code",
   "execution_count": null,
   "id": "6c3de52c-90d9-4bb5-bd02-19ce4e83d2b1",
   "metadata": {},
   "outputs": [],
   "source": []
  },
  {
   "cell_type": "code",
   "execution_count": null,
   "id": "0d8bbc50-908a-45fe-b710-2ea19d5f642f",
   "metadata": {},
   "outputs": [],
   "source": []
  }
 ],
 "metadata": {
  "kernelspec": {
   "display_name": "Python 3 (ipykernel)",
   "language": "python",
   "name": "python3"
  },
  "language_info": {
   "codemirror_mode": {
    "name": "ipython",
    "version": 3
   },
   "file_extension": ".py",
   "mimetype": "text/x-python",
   "name": "python",
   "nbconvert_exporter": "python",
   "pygments_lexer": "ipython3",
   "version": "3.9.6"
  }
 },
 "nbformat": 4,
 "nbformat_minor": 5
}
